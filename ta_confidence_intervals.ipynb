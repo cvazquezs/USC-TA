{
 "cells": [
  {
   "cell_type": "markdown",
   "metadata": {
    "nbpresent": {
     "id": "b0bdc0c5-2495-4e0e-9793-ed5facd68637"
    },
    "slideshow": {
     "slide_type": "slide"
    }
   },
   "source": [
    "# Analysis Techniques - Statistical Methods - Index\n",
    "\n",
    "\n",
    "## Universidade de Santiago \n",
    "\n",
    "---\n",
    "\n",
    "## Lecture III - Confidence Intervals\n",
    "\n",
    "*Author: Jose A. Hernando*, February 2020\n",
    "\n",
    "*Instituto Galego de Altas Enerxías. Universidade de Santiago de Compostela, Spain.*"
   ]
  },
  {
   "cell_type": "code",
   "execution_count": 26,
   "metadata": {
    "nbpresent": {
     "id": "b2443ab4-16fc-4851-bb80-c90a0c6d6dee"
    },
    "slideshow": {
     "slide_type": "fragment"
    }
   },
   "outputs": [
    {
     "name": "stdout",
     "output_type": "stream",
     "text": [
      " Last Execution  Thu Feb 10 18:14:22 2022\n"
     ]
    }
   ],
   "source": [
    "import time\n",
    "\n",
    "print( ' Last Execution ', time.asctime())"
   ]
  },
  {
   "cell_type": "code",
   "execution_count": 27,
   "metadata": {
    "nbpresent": {
     "id": "ad5486f8-4654-482a-b15c-f0d4e5c76937"
    },
    "slideshow": {
     "slide_type": "slide"
    }
   },
   "outputs": [],
   "source": [
    "# general imports\n",
    "%matplotlib inline\n",
    "%reload_ext autoreload\n",
    "%autoreload 2\n",
    "\n",
    "# numpy and matplotlib\n",
    "import numpy as np\n",
    "import pandas as pd\n",
    "import matplotlib\n",
    "import matplotlib.pyplot as plt\n",
    "import scipy.stats as stats\n",
    "\n",
    "# possible styles: ggplot (simplicity), bmh (scientify data), \n",
    "plt.style.context('seaborn-colorblind') \n",
    "\n",
    "import htcore as htcore\n",
    "import httoys as httoys\n",
    "import htcint as htcint\n",
    "import htcint_examples as htexam\n",
    "\n",
    "# ploting images\n",
    "from IPython.display import display, Image"
   ]
  },
  {
   "cell_type": "markdown",
   "metadata": {
    "nbpresent": {
     "id": "8b1a3799-c81d-4bc0-86e1-3fb15503aa79"
    },
    "slideshow": {
     "slide_type": "fragment"
    }
   },
   "source": [
    "----"
   ]
  },
  {
   "cell_type": "markdown",
   "metadata": {
    "nbpresent": {
     "id": "03b78c78-a17e-4c7f-85e5-2f054ba3ac70"
    },
    "slideshow": {
     "slide_type": "slide"
    }
   },
   "source": [
    "## Introduction\n",
    "\n",
    "Usually we indicate that a given parameters $\\mu$ (i.e lifetime) has an upper limit at 90 % CL  (i.e. $1.07 \\times 10^{26}$ y at 90 %CL, of KamLAND-Zen).\n",
    "\n",
    "Sometimes we quote an interval for the parameter $\\mu$ as a **confidence interval** (CI) with a **confidence level** (CL) range.\n",
    "\n",
    "But what does it mean? \n",
    "\n",
    "It means a very different thing for a frequentist and a bayesian!\n",
    "\n",
    "And... how are they computed?"
   ]
  },
  {
   "cell_type": "markdown",
   "metadata": {
    "slideshow": {
     "slide_type": "fragment"
    }
   },
   "source": [
    "---"
   ]
  },
  {
   "cell_type": "markdown",
   "metadata": {
    "slideshow": {
     "slide_type": "slide"
    }
   },
   "source": [
    "## 1. Frequestist vs Bayesians\n",
    "\n",
    "Again...\n",
    "\n",
    "Frequentist talk about experiments in the same conditions. Bayesians talk about probabilities based on a prior knowledge or a 'reasonable' guess.\n",
    "\n",
    "**Frequentist** say a CI **covers** the true value at a given $\\beta$ CL. That means that if you repeat a large number of times, $m$, an experiment at for each one you set a CI $\\{$CI$_i, \\, i=1, \\dots, m \\}$, at least a fraction $\\beta$ of the CIs cover the true value. \n",
    "\n",
    "A frequentist needs to provide a method to **construct the CI**. The method has to have the correct **coverage**.\n",
    "\n",
    "**Bayesians** talk about **credible intervals** (CI), that is the probability that the true parameter is inside the CI is greather or equal to a $\\beta$ probability. \n",
    "\n",
    "That sounds most like what you want, but unfortunately to get it, you need to do accept some assumptions or some 'reasonable' priors.\n"
   ]
  },
  {
   "cell_type": "markdown",
   "metadata": {
    "slideshow": {
     "slide_type": "slide"
    }
   },
   "source": [
    "For a frequentist a CI indicates the limit in wich a data $x$  is consider at *extreme* event ad a given $\\beta$ CL.\n",
    "\n",
    "But to indicate is $x$ is an *extreme* event, we need to **order** the events given $\\mu$."
   ]
  },
  {
   "cell_type": "markdown",
   "metadata": {
    "nbpresent": {
     "id": "43e100ca-3a5e-4321-b30a-75ba56b43367"
    },
    "slideshow": {
     "slide_type": "fragment"
    }
   },
   "source": [
    "----"
   ]
  },
  {
   "cell_type": "markdown",
   "metadata": {
    "slideshow": {
     "slide_type": "slide"
    }
   },
   "source": [
    "## 2. Classical frequentist CI\n",
    "\n",
    "Given $x$ data that is related with a unknown parameter $\\mu$ via a pdf, $g(x | \\mu)$, (i.e x is poisson distributed with mean $\\mu$) How we can provide a frequentist CI for $\\mu$ given $x$?\n",
    "\n",
    "Classical CI are obtained using the **Neyman construction**. \n",
    "\n",
    "Later we will discuss the **Feldman-Cousins construction**"
   ]
  },
  {
   "cell_type": "markdown",
   "metadata": {
    "slideshow": {
     "slide_type": "slide"
    }
   },
   "source": [
    "\n",
    "The Neyman construction defines a **confidence belt** in the plane $(x, \\mu)$.\n",
    "\n",
    "First, for a given $\\mu$  and the pdf, $g(x | \\mu)$, we define an interval $[x_l(\\mu), x_u(\\mu)]$ where inside there are contained at least $\\beta$ of possible $x$ values. We will describe later how this interval is constructed.\n",
    "\n",
    "The union of the intervals $[x_l(\\mu), x_u(\\mu)]$ as a function of $\\mu$ define a confidence region, a belt; in the plane $(x \\mu)$.\n"
   ]
  },
  {
   "cell_type": "markdown",
   "metadata": {
    "slideshow": {
     "slide_type": "slide"
    }
   },
   "source": [
    "There are three different ways to define the interval $[x_l(\\mu), x_u(\\mu)]$ for given $\\mu$.\n",
    "\n",
    "**Lower, central and upper limit intervals**. \n",
    "\n",
    "The lower interval:\n",
    "$$\n",
    "\\int_{-\\infty}^{x_l(\\mu)} g(x | \\mu) \\, \\mathrm{d} x \\le 1-\\beta\n",
    "$$\n",
    "\n",
    "For the upper:\n",
    "$$\n",
    "\\int_{x_u(\\mu)}^{\\infty} g(x | \\mu) \\, \\mathrm{d} x \\le 1-\\beta\n",
    "$$\n",
    "\n",
    "And the central:\n",
    "$$\n",
    "\\int_{x_l(\\mu)}^{\\infty} g(x | \\mu) \\, \\mathrm{d}x, \\;  \\int_{-\\infty}^{x_u(\\mu)} g(x | \\mu) \\, \\mathrm{d}x \\le (1-\\beta)/2 \n",
    "$$\n",
    "\n",
    "Notice that frequestist are **conservative** and $\\beta$ CL implies at least $\\beta$ CL. \n"
   ]
  },
  {
   "cell_type": "markdown",
   "metadata": {
    "slideshow": {
     "slide_type": "slide"
    }
   },
   "source": [
    "In the next cells we compute the central, lower and upper interval for a give value of $b = 3$ and $\\mu = 0.5$ of a poisson distribution."
   ]
  },
  {
   "cell_type": "code",
   "execution_count": 39,
   "metadata": {
    "slideshow": {
     "slide_type": "subslide"
    }
   },
   "outputs": [
    {
     "name": "stdout",
     "output_type": "stream",
     "text": [
      "interval ( 1 , 7 )\n",
      "coverage  94.30636944863619 %\n"
     ]
    },
    {
     "data": {
      "image/png": "[encoded data removed]",
      "text/plain": [
       "<Figure size 432x288 with 1 Axes>"
      ]
     },
     "metadata": {
      "needs_background": "light"
     },
     "output_type": "display_data"
    }
   ],
   "source": [
    "b, mu = 3., 0.5\n",
    "beta  = 0.90\n",
    "alpha = (1- beta)/2.\n",
    "ns = np.arange(12)\n",
    "ps = stats.poisson.pmf(ns, b + mu)\n",
    "plt.bar(ns, ps, color = 'orange', hatch='\\\\', alpha = 0.5);\n",
    "i0     = int(stats.poisson.ppf(alpha  , b + mu))\n",
    "i1     = int(stats.poisson.ppf(1-alpha, b + mu)) + 1\n",
    "plt.bar(ns[i0:i1], ps[i0:i1], color = 'green', hatch='//', alpha = 0.5, label = 'central CL');\n",
    "plt.xlabel('x'); plt.title('b + s = '+str(b)+' + '+str(mu)); plt.legend();\n",
    "print('interval (', i0, ',', i1-1, ')')\n",
    "print('coverage ', 100 * np.sum(ps[i0:i1]), '%')"
   ]
  },
  {
   "cell_type": "code",
   "execution_count": 40,
   "metadata": {
    "slideshow": {
     "slide_type": "subslide"
    }
   },
   "outputs": [
    {
     "name": "stdout",
     "output_type": "stream",
     "text": [
      "interval ( - , 4 )\n",
      "coverage  72.54449533096047 %\n"
     ]
    },
    {
     "data": {
      "image/png": "[encoded data removed]",
      "text/plain": [
       "<Figure size 432x288 with 1 Axes>"
      ]
     },
     "metadata": {
      "needs_background": "light"
     },
     "output_type": "display_data"
    }
   ],
   "source": [
    "b, mu = 3., 0.5\n",
    "beta  = 0.68\n",
    "ns = np.arange(12)\n",
    "ps = stats.poisson.pmf(ns, b + mu)\n",
    "i0     = int(stats.poisson.ppf(beta  , b + mu)) + 1\n",
    "plt.bar(ns     , ps     , color = 'orange', hatch='//', alpha = 0.5);\n",
    "plt.bar(ns[:i0], ps[:i0], color = 'green' , hatch='\\\\', alpha = 0.5, label = 'upper');\n",
    "plt.xlabel('x'); plt.title('b + s = '+str(b)+' + '+str(mu)); plt.legend();\n",
    "print('interval ( - ,', i0 - 1, ')')\n",
    "print('coverage ', 100 * np.sum(ps[:i0]), '%')"
   ]
  },
  {
   "cell_type": "code",
   "execution_count": 41,
   "metadata": {
    "slideshow": {
     "slide_type": "subslide"
    }
   },
   "outputs": [
    {
     "name": "stdout",
     "output_type": "stream",
     "text": [
      "interval ( 2  , - )\n",
      "coverage  86.38227823796366 %\n"
     ]
    },
    {
     "data": {
      "image/png": "[encoded data removed]",
      "text/plain": [
       "<Figure size 432x288 with 1 Axes>"
      ]
     },
     "metadata": {
      "needs_background": "light"
     },
     "output_type": "display_data"
    }
   ],
   "source": [
    "b, mu = 3., 0.5\n",
    "beta  = 0.68\n",
    "ns = np.arange(12)\n",
    "ps = stats.poisson.pmf(ns, b + mu)\n",
    "i0     = int(stats.poisson.ppf(1 - beta  , b + mu)) \n",
    "plt.bar(ns     , ps     , color = 'orange', hatch='//', alpha = 0.5);\n",
    "plt.bar(ns[i0:], ps[i0:], color = 'green' , hatch='\\\\', alpha = 0.5, label = 'lower');\n",
    "plt.xlabel('x'); plt.title('b + s = '+str(b)+' + '+str(mu)); plt.legend();\n",
    "print('interval (', i0 , ' , - )')\n",
    "print('coverage ', 100 * np.sum(ps[i0:]), '%')"
   ]
  },
  {
   "cell_type": "markdown",
   "metadata": {
    "slideshow": {
     "slide_type": "subslide"
    }
   },
   "source": [
    "**Exercise**: Consider a poisson distribution with $b=3$ background events and a value of possible signal, $\\mu=0.5$. Give the 90% lower, upper and central interval."
   ]
  },
  {
   "cell_type": "code",
   "execution_count": 42,
   "metadata": {
    "slideshow": {
     "slide_type": "slide"
    }
   },
   "outputs": [],
   "source": [
    "def plt_rmu_classical(mu, b, beta = 0.90):\n",
    "    alpha = (1-beta)/2\n",
    "    rmu, xs = htcint.rmu(mu, b, beta, type = 'classical', full_output = True, )\n",
    "    print('Rmu segment for b ', b, 'and mu ', mu, ' = ', rmu);\n",
    "    cps, ps, ns = [xi[0] for xi in xs], [xi[1] for xi in xs], [xi[2] for xi in xs]\n",
    "    plt.bar (ns[:15],  ps[:15], label = 'g(x| b + $\\mu$)', alpha = 0.5);\n",
    "    plt.plot(ns[:15], cps[:15], marker = 'o', color = 'green',  \n",
    "             label = 'cdf(x| b + $\\mu$)', alpha = 0.5);\n",
    "    plt.plot((0, 15), (  alpha,   alpha), color = 'black', ls = '--');\n",
    "    plt.plot((0, 15), (1-alpha, 1-alpha), color = 'black', ls = '--');\n",
    "    plt.xlabel('$x$');\n",
    "    plt.title('b = '+str(b)+', $\\mu$ = '+str(mu)); plt.grid()\n",
    "    plt.legend();\n",
    "    return"
   ]
  },
  {
   "cell_type": "code",
   "execution_count": 43,
   "metadata": {
    "scrolled": false,
    "slideshow": {
     "slide_type": "slide"
    }
   },
   "outputs": [
    {
     "name": "stdout",
     "output_type": "stream",
     "text": [
      "Rmu segment for b  3.0 and mu  0.5  =  (2, 5)\n"
     ]
    },
    {
     "data": {
      "image/png": "[encoded data removed]",
      "text/plain": [
       "<Figure size 432x288 with 1 Axes>"
      ]
     },
     "metadata": {
      "needs_background": "light"
     },
     "output_type": "display_data"
    }
   ],
   "source": [
    "mu, b, beta = 0.5, 3., 0.68\n",
    "plt_rmu_classical(mu, b, beta)"
   ]
  },
  {
   "cell_type": "markdown",
   "metadata": {
    "slideshow": {
     "slide_type": "slide"
    }
   },
   "source": [
    "We define the **confidence belt** scaning along the $\\mu$ values and for each one, konwing the pdf $g(x \\ \\mu)$, computing the interval $[x_l(\\mu), x_u(\\mu)]$ that provides a $\\beta$ % contaiment.\n",
    "\n",
    "<img src='figs/CI_belt.png' width=500 style = 'float: center'>\n",
    "\n",
    "In the case we measure $x_0 = 3.2$, the CI is given by the values of $\\mu$ where the vertical line $x_0 = 3.2$ meets the boundaries of the confidence belt."
   ]
  },
  {
   "cell_type": "markdown",
   "metadata": {
    "slideshow": {
     "slide_type": "slide"
    }
   },
   "source": [
    "**Example**: Construct the *confident belt* CI at 90% and 68% CL considering a counting experiment with background $b$ and unknown signal $\\mu$. \n",
    "\n",
    "In the case the pdf is a poisson with mean $b + \\mu$. We scan along $\\mu$ and for each $\\mu$ we obtain the interval $[x_l(\\mu), x_u(\\mu)]$ using the central interval at 90% contaiment. \n",
    "\n",
    "The we unify the border of the segments and we define the confident belt.\n",
    "\n",
    "*Inspect the code in the following cells*\n",
    "\n",
    "**Exercise**: What is the CI at 90% CL? And for $b=3$ and $x_0 = 1$? "
   ]
  },
  {
   "cell_type": "code",
   "execution_count": 49,
   "metadata": {
    "slideshow": {
     "slide_type": "slide"
    }
   },
   "outputs": [],
   "source": [
    "def plt_confbelt(x0, b, beta1 = 0.90, beta2 = 0.68, type = 'classical',\n",
    "                 mumax = 12, musize=200):\n",
    "    \"\"\" draws the CI confident belt for beta1 and beta2 CL of type = ('classical', 'fc')\n",
    "        draws a line in the confident belt plane for x0 and print the ci for beta1 and beta2\n",
    "        beta1 = 90 %CL and beta2 = 68% CL\n",
    "    \"\"\"\n",
    "    mus = np.linspace(0., mumax, musize)\n",
    "    xls, xus, ci1 = htcint.ci_belt(mus, b, beta1, type = type)\n",
    "    plt.fill_betweenx(mus, xls, xus, color = 'cyan', alpha = 0.5, \n",
    "                      label = str(int(100*beta1))+'% CL');\n",
    "    xls, xus, ci2 = htcint.ci_belt(mus, b, beta2, type = type)\n",
    "    plt.fill_betweenx(mus, xls, xus, color = 'blue', alpha = 0.5, \n",
    "                      label = str(int(100*beta2))+'% CL' );\n",
    "    plt.plot((x0 + 0.1 , x0 + 0.1), (0, mumax), color = 'black', ls = '--')\n",
    "    plt.xlabel('$x$'); plt.ylabel('$\\mu$'); plt.title(type); plt.grid(); plt.legend()\n",
    "    print('CI ', ci1(x0), ' at ', beta1, 'CL for b = ', b, ' and x0 = ', x0)\n",
    "    print('CI ', ci2(x0), ' at ', beta2, 'CL for b = ', b, ' and x0 = ', x0)\n",
    "    return ci1, ci2"
   ]
  },
  {
   "cell_type": "code",
   "execution_count": 50,
   "metadata": {
    "scrolled": true,
    "slideshow": {
     "slide_type": "slide"
    }
   },
   "outputs": [
    {
     "name": "stdout",
     "output_type": "stream",
     "text": [
      "CI  None  at  0.9 CL for b =  3  and x0 =  0\n",
      "CI  None  at  0.68 CL for b =  3  and x0 =  0\n"
     ]
    },
    {
     "data": {
      "image/png": "[encoded data removed]",
      "text/plain": [
       "<Figure size 432x288 with 1 Axes>"
      ]
     },
     "metadata": {
      "needs_background": "light"
     },
     "output_type": "display_data"
    }
   ],
   "source": [
    "x0, b = 1, 3\n",
    "plt_confbelt(x0, b, type = 'classical', mumax = 12, musize = 200);"
   ]
  },
  {
   "cell_type": "markdown",
   "metadata": {
    "slideshow": {
     "slide_type": "slide"
    }
   },
   "source": [
    "**[E] Exercise**: Test the coverange of the CI at 90 % CL in the previous example. Consider $b=2$ and $\\mu_{true} = 2$."
   ]
  },
  {
   "cell_type": "markdown",
   "metadata": {
    "slideshow": {
     "slide_type": "fragment"
    }
   },
   "source": [
    "-----"
   ]
  },
  {
   "cell_type": "markdown",
   "metadata": {
    "slideshow": {
     "slide_type": "slide"
    }
   },
   "source": [
    "## 3. Feldman-Cousins (FC) CI\n",
    "\n",
    "Feldman and Cousins, when working on 90's on the NOMAD experiment, found several worrisome issues with classical CIs.\n",
    "\n",
    "And they proposed an ordering principle to compute the extreme of a data, $x$, with respect $\\mu$ based on the likelihood ratio.\n",
    "\n",
    "This ordering principle avoid the decision of lower, central and upper intervals. It passes smoothly from one to another.\n",
    "\n",
    "Now is the common method used to define CI. It is the new-classical.\n"
   ]
  },
  {
   "cell_type": "markdown",
   "metadata": {
    "slideshow": {
     "slide_type": "slide"
    }
   },
   "source": [
    "\n",
    "Historically, [Feldman and Cousins](https://arxiv.org/abs/physics/9711021) encountered:\n",
    "\n",
    "First, one have the temptation of quoting a **flip-flop** result: if we do not observe a signal, we quote a 90% CL, if we get an observation, we quote a 90% central CI.  Your present your result depending on your data.\n",
    "\n",
    "\n",
    "In this example, data, $x$, follows a normal gaussian. At 3 Z, the confidence belt pass from 90 % CL upper limit to 90% CL central limit. The belt has not the proper frequentist coverage.\n",
    "\n",
    "<img src='figs/CI_FC_flipflop.png' width=400 style = 'float: center'>\n",
    "\n",
    "We should decide what type of quote before obtaining the measurement. \n"
   ]
  },
  {
   "cell_type": "markdown",
   "metadata": {
    "slideshow": {
     "slide_type": "slide"
    }
   },
   "source": [
    "Second, **there is no CI at 90% CL for the case $b=3$ and $x_0= 0$**. (See the previos example) Imagine that NOMAD expecting 3 background events, see no signal, and have no result to quote!\n",
    "\n",
    "They propose a construction interval method (**Feldman-Cousins** method) that smoothly passes from lower to central intervals and avoid the problem of the no CI observed at $b=3, x_0 = 0$."
   ]
  },
  {
   "cell_type": "markdown",
   "metadata": {
    "slideshow": {
     "slide_type": "slide"
    }
   },
   "source": [
    "**Exercise**: Verify that the flip-flop problem has not the proper coverage\n",
    "    \n",
    "**Question**: Why the case $b=3$ and $x_0 = 0$ has no classical CI at 90% CL?"
   ]
  },
  {
   "cell_type": "markdown",
   "metadata": {
    "slideshow": {
     "slide_type": "slide"
    }
   },
   "source": [
    "FC proposed an **ordering rule**, a variable that quantifies **how extreme** data $x$ is respect $\\mu$.\n",
    "\n",
    "The variable is the likelihood ratio with respect the best-estimate $\\hat{\\mu}(x)$.\n",
    "\n",
    "$$\n",
    "t_\\mu(x) =  \\frac{\\mathcal{L}( x | \\mu)}{ \\mathcal{L}(x | \\hat{\\mu}(x))}\n",
    "$$\n",
    "\n",
    "\n",
    "The best-estimate $\\hat{\\mu}(x)$ is the value of $\\mu$ that maximizes the likelihood $\\mathcal{L}(x| \\hat{\\mu}(x))$ for a given measurement $x$."
   ]
  },
  {
   "cell_type": "markdown",
   "metadata": {
    "slideshow": {
     "slide_type": "subslide"
    }
   },
   "source": [
    "The values of $t_\\mu$(x) are between $[0, 1]$. \n",
    "\n",
    "The $x$ measurements with $t_\\mu(x)$ values approaching 1 are \"likely\" measurements respect $\\mu$ and those wich values close to 0 are \"unlikely\".\n",
    "\n",
    "The lower $t_\\mu(x)$ value the most extreme a $x$ measurement is.\n",
    "\n",
    "For example for a given $\\mu$ and $x$, if the best estimate $\\hat{\\mu}(x)$ is close to $\\mu$, both likelihoods are similar and the ratio, $t_\\mu(x)$, close to 1.\n",
    "\n",
    "Nevertheless a given $x$ may have a small likelihood, $\\mathcal{L}(x | \\mu)$, but the maximum likelihood for that $x$, $\\mathcal{L}(x | \\hat{\\mu}(x))$ may also be small, then $t_\\mu(x)$ is close to 1, and $x$ can gain priority respect other $x$'s values for the same $\\mu$. That is the situatio for the case $x = 0$ for $b = 3$ and $\\mu = 0$. The problematic case discussed above."
   ]
  },
  {
   "cell_type": "markdown",
   "metadata": {
    "slideshow": {
     "slide_type": "slide"
    }
   },
   "source": [
    "**Example**: Consider the case of $b=3$ and $\\mu = 0.5$ and constract the FC segment, $[x_l(\\mu), x_u(\\mu)]$ along $x$ at 90% CL.\n"
   ]
  },
  {
   "cell_type": "markdown",
   "metadata": {
    "slideshow": {
     "slide_type": "subslide"
    }
   },
   "source": [
    "For each $n$, that has probability $g(n | b + \\mu)$, with $b=3, \\, \\mu = 0.5$, we estimate $\\hat{\\mu}(n)$.\n",
    "\n",
    "The best estimate $\\hat{\\mu}(n)$ is $n-b$. Except for $x \\le 3$, that it is $0$, as there is no physical meaning of a negative signal. \n",
    "\n",
    "For each $n$ we compute the likelihood ratio $t_\\mu(n)$. \n",
    "\n",
    "In this case:\n",
    "\n",
    "$$\n",
    "t_\\mu(n) = \\frac{g(n | b + \\mu)}{ g( n | b + \\hat{\\mu}(n))}\n",
    "$$\n"
   ]
  },
  {
   "cell_type": "markdown",
   "metadata": {
    "slideshow": {
     "slide_type": "subslide"
    }
   },
   "source": [
    "Then we order the $n$ accordingly with $t_\\mu(n)$ from highest to lowest (in this case). \n",
    "\n",
    "Each value $n$, has a probability $g(n | b + \\mu)$.\n",
    "\n",
    "We accept $n$ values in the CI in $t_\\mu$ order and considering its probability $g(n | b + \\mu)$ till we reach or surpass 90% probability.\n",
    "\n",
    "*Inspect the code in the next cells*"
   ]
  },
  {
   "cell_type": "code",
   "execution_count": 51,
   "metadata": {
    "slideshow": {
     "slide_type": "subslide"
    }
   },
   "outputs": [],
   "source": [
    "b, mu  = 3, 0.5\n",
    "ns     = np.arange(12)\n",
    "muhats = np.asarray([max(0, ni - b) for ni in ns])\n",
    "def tmu(ni, muhat, b = b, mu = mu):\n",
    "    return stats.poisson.pmf(ni,  b + mu) / stats.poisson.pmf(ni, b + muhat)\n",
    "gmus    = np.asarray([stats.poisson.pmf( ni, b + mu) for ni in ns])\n",
    "gmuhats = np.asarray([stats.poisson.pmf( ni, b + muh) for ni, muh in zip(ns, muhats)])\n",
    "tmus    = np.asarray([tmu(ni, muhati) for ni, muhati in zip(ns, muhats)]) \n",
    "dic = {'n (x)' : ns,  'g(n| b+ mu)': gmus, 'muhat(x)' : muhats, \n",
    "       'g(n | b + muhat)' : gmuhats,  'tmu(n)': tmus, 'qmu ': -2 * np.log(tmus) }\n",
    "df = pd.DataFrame(dic)"
   ]
  },
  {
   "cell_type": "markdown",
   "metadata": {
    "slideshow": {
     "slide_type": "slide"
    }
   },
   "source": [
    "The next table shows the values of $g(n | b+ \\mu), \\, \\hat{\\mu}(x), \\, g(n | b + \\hat{\\mu}(n)), \\, t_\\mu(x), -2 \\mathrm{ln}(t_\\mu(x))$ for the possible measurements $n$ in a single counting experiment with $b = 3$ and $\\mu = 0.5$."
   ]
  },
  {
   "cell_type": "code",
   "execution_count": 57,
   "metadata": {
    "slideshow": {
     "slide_type": "slide"
    }
   },
   "outputs": [
    {
     "data": {
      "text/html": [
       "<div>\n",
       "<style scoped>\n",
       "    .dataframe tbody tr th:only-of-type {\n",
       "        vertical-align: middle;\n",
       "    }\n",
       "\n",
       "    .dataframe tbody tr th {\n",
       "        vertical-align: top;\n",
       "    }\n",
       "\n",
       "    .dataframe thead th {\n",
       "        text-align: right;\n",
       "    }\n",
       "</style>\n",
       "<table border=\"1\" class=\"dataframe\">\n",
       "  <thead>\n",
       "    <tr style=\"text-align: right;\">\n",
       "      <th></th>\n",
       "      <th>n (x)</th>\n",
       "      <th>g(n| b+ mu)</th>\n",
       "      <th>muhat(x)</th>\n",
       "      <th>g(n | b + muhat)</th>\n",
       "      <th>tmu(n)</th>\n",
       "      <th>qmu</th>\n",
       "    </tr>\n",
       "  </thead>\n",
       "  <tbody>\n",
       "    <tr>\n",
       "      <th>0</th>\n",
       "      <td>0</td>\n",
       "      <td>0.030197</td>\n",
       "      <td>0</td>\n",
       "      <td>0.049787</td>\n",
       "      <td>0.606531</td>\n",
       "      <td>1.000000</td>\n",
       "    </tr>\n",
       "    <tr>\n",
       "      <th>1</th>\n",
       "      <td>1</td>\n",
       "      <td>0.105691</td>\n",
       "      <td>0</td>\n",
       "      <td>0.149361</td>\n",
       "      <td>0.707619</td>\n",
       "      <td>0.691699</td>\n",
       "    </tr>\n",
       "    <tr>\n",
       "      <th>2</th>\n",
       "      <td>2</td>\n",
       "      <td>0.184959</td>\n",
       "      <td>0</td>\n",
       "      <td>0.224042</td>\n",
       "      <td>0.825556</td>\n",
       "      <td>0.383397</td>\n",
       "    </tr>\n",
       "    <tr>\n",
       "      <th>3</th>\n",
       "      <td>3</td>\n",
       "      <td>0.215785</td>\n",
       "      <td>0</td>\n",
       "      <td>0.224042</td>\n",
       "      <td>0.963148</td>\n",
       "      <td>0.075096</td>\n",
       "    </tr>\n",
       "    <tr>\n",
       "      <th>4</th>\n",
       "      <td>4</td>\n",
       "      <td>0.188812</td>\n",
       "      <td>1</td>\n",
       "      <td>0.195367</td>\n",
       "      <td>0.966450</td>\n",
       "      <td>0.068251</td>\n",
       "    </tr>\n",
       "    <tr>\n",
       "      <th>5</th>\n",
       "      <td>5</td>\n",
       "      <td>0.132169</td>\n",
       "      <td>2</td>\n",
       "      <td>0.175467</td>\n",
       "      <td>0.753237</td>\n",
       "      <td>0.566749</td>\n",
       "    </tr>\n",
       "    <tr>\n",
       "      <th>6</th>\n",
       "      <td>6</td>\n",
       "      <td>0.077098</td>\n",
       "      <td>3</td>\n",
       "      <td>0.160623</td>\n",
       "      <td>0.479995</td>\n",
       "      <td>1.467958</td>\n",
       "    </tr>\n",
       "    <tr>\n",
       "      <th>7</th>\n",
       "      <td>7</td>\n",
       "      <td>0.038549</td>\n",
       "      <td>4</td>\n",
       "      <td>0.149003</td>\n",
       "      <td>0.258714</td>\n",
       "      <td>2.704061</td>\n",
       "    </tr>\n",
       "    <tr>\n",
       "      <th>8</th>\n",
       "      <td>8</td>\n",
       "      <td>0.016865</td>\n",
       "      <td>5</td>\n",
       "      <td>0.139587</td>\n",
       "      <td>0.120823</td>\n",
       "      <td>4.226857</td>\n",
       "    </tr>\n",
       "    <tr>\n",
       "      <th>9</th>\n",
       "      <td>9</td>\n",
       "      <td>0.006559</td>\n",
       "      <td>6</td>\n",
       "      <td>0.131756</td>\n",
       "      <td>0.049779</td>\n",
       "      <td>6.000309</td>\n",
       "    </tr>\n",
       "    <tr>\n",
       "      <th>10</th>\n",
       "      <td>10</td>\n",
       "      <td>0.002296</td>\n",
       "      <td>7</td>\n",
       "      <td>0.125110</td>\n",
       "      <td>0.018348</td>\n",
       "      <td>7.996442</td>\n",
       "    </tr>\n",
       "    <tr>\n",
       "      <th>11</th>\n",
       "      <td>11</td>\n",
       "      <td>0.000730</td>\n",
       "      <td>8</td>\n",
       "      <td>0.119378</td>\n",
       "      <td>0.006118</td>\n",
       "      <td>10.192911</td>\n",
       "    </tr>\n",
       "  </tbody>\n",
       "</table>\n",
       "</div>"
      ],
      "text/plain": [
       "    n (x)  g(n| b+ mu)  muhat(x)  g(n | b + muhat)    tmu(n)       qmu \n",
       "0       0     0.030197         0          0.049787  0.606531   1.000000\n",
       "1       1     0.105691         0          0.149361  0.707619   0.691699\n",
       "2       2     0.184959         0          0.224042  0.825556   0.383397\n",
       "3       3     0.215785         0          0.224042  0.963148   0.075096\n",
       "4       4     0.188812         1          0.195367  0.966450   0.068251\n",
       "5       5     0.132169         2          0.175467  0.753237   0.566749\n",
       "6       6     0.077098         3          0.160623  0.479995   1.467958\n",
       "7       7     0.038549         4          0.149003  0.258714   2.704061\n",
       "8       8     0.016865         5          0.139587  0.120823   4.226857\n",
       "9       9     0.006559         6          0.131756  0.049779   6.000309\n",
       "10     10     0.002296         7          0.125110  0.018348   7.996442\n",
       "11     11     0.000730         8          0.119378  0.006118  10.192911"
      ]
     },
     "execution_count": 57,
     "metadata": {},
     "output_type": "execute_result"
    }
   ],
   "source": [
    "df"
   ]
  },
  {
   "cell_type": "markdown",
   "metadata": {
    "slideshow": {
     "slide_type": "slide"
    }
   },
   "source": [
    "In the next cell we plot $g(n | b + s)$ and $t_\\mu(x)$ for n-values given $b = 3$ and $\\mu = 0.5$"
   ]
  },
  {
   "cell_type": "code",
   "execution_count": 58,
   "metadata": {
    "slideshow": {
     "slide_type": "subslide"
    }
   },
   "outputs": [
    {
     "data": {
      "image/png": "[encoded data removed]",
      "text/plain": [
       "<Figure size 432x288 with 1 Axes>"
      ]
     },
     "metadata": {
      "needs_background": "light"
     },
     "output_type": "display_data"
    }
   ],
   "source": [
    "plt.bar(ns, gmus, alpha = 0.5, label = '$g(x | b + \\mu)$');\n",
    "plt.bar(ns, tmus, alpha = 0.5, label = '$t_\\mu(x)$');\n",
    "plt.xlabel('$x$'); plt.legend();"
   ]
  },
  {
   "cell_type": "code",
   "execution_count": 59,
   "metadata": {
    "slideshow": {
     "slide_type": "slide"
    }
   },
   "outputs": [],
   "source": [
    "def plt_rmu_fc(mu, b, beta = 0.9):\n",
    "    rmu, xs = htcint.rmu(mu, b, beta, type = 'fc', full_output = True)\n",
    "    print('Rmu segment for b ', b, 'and mu ', mu, ' = ', rmu);\n",
    "    tms, cps, ns = [xi[0] for xi in xs], [xi[1] for xi in xs], [xi[2] for xi in xs]\n",
    "    #tms = [-2*np.log(tmi) for tmi in tms]\n",
    "    ps = [cps[0]]; ps = ps + [cps[i]-cps[i-1] for i in range(1, len(ns))]\n",
    "    ks = range(len(ns))\n",
    "    ax = plt.gca()\n",
    "    axb = ax.twinx()\n",
    "    ax.bar (ks[:15],  ps[:15], label = '$g(x | b + \\mu)$', alpha = 0.5, color = 'green');\n",
    "    ax.plot(ks[:15], cps[:15], marker = 'o', color = 'green',  \n",
    "             label = 'cdf(x| b + $\\mu$)', alpha = 0.5);\n",
    "    axb.bar(ks[:15], tms[:15], label = '$t_{\\mu}(x)$', alpha = 0.5, color = 'orange');\n",
    "    ax.plot((0, 15), (beta, beta), color = 'black', ls = '--');\n",
    "    ax.set_xlabel(r'$x$'); ax.set_ylabel('probabilty'); axb.set_ylabel(r'$t_\\mu$')\n",
    "    plt.xticks(ks[:15], labels = ns[:15])\n",
    "    plt.title('b = '+str(b)+', $\\mu$ = '+str(mu)); plt.grid()\n",
    "    ax.legend(loc = 1); axb.legend(loc = 4)\n",
    "    return "
   ]
  },
  {
   "cell_type": "markdown",
   "metadata": {
    "slideshow": {
     "slide_type": "slide"
    }
   },
   "source": [
    "In the next cell we plot in order of better $t_\\mu(n)$, with its correspondent $g(n | b+\\mu), \\; t_\\mu(n)$ and the cumulative function, $cdf(n | b+\\mu)$.\n",
    "\n",
    "The interval $[n_l(\\mu), n_u(\\mu)]$ is defined by the range of $n$ values till cumulative function surpassses a given $\\beta$ contaiment (the dashed line in the plot). \n",
    "\n",
    "For this case $b = 3, \\, \\mu = 0.5, \\; \\beta = 90$ %."
   ]
  },
  {
   "cell_type": "code",
   "execution_count": 60,
   "metadata": {
    "slideshow": {
     "slide_type": "slide"
    }
   },
   "outputs": [
    {
     "name": "stdout",
     "output_type": "stream",
     "text": [
      "Rmu segment for b  3.0 and mu  0.5  =  (0, 6)\n"
     ]
    },
    {
     "data": {
      "image/png": "[encoded data removed]",
      "text/plain": [
       "<Figure size 432x288 with 2 Axes>"
      ]
     },
     "metadata": {
      "needs_background": "light"
     },
     "output_type": "display_data"
    }
   ],
   "source": [
    "mu, b, beta = 0.5, 3., 0.90\n",
    "plt_rmu_fc(mu, b, beta);"
   ]
  },
  {
   "cell_type": "markdown",
   "metadata": {
    "slideshow": {
     "slide_type": "slide"
    }
   },
   "source": [
    "The next cell show the confidence belt using the FC ordering for the case of a single counting experiment with $b = 3$ at 68% and 98% contaiment.\n",
    "\n",
    "*Explore* and obtain the confidence interval for different measurements, for example the problematic one $x = 0$ that we studied with the classical construction."
   ]
  },
  {
   "cell_type": "code",
   "execution_count": 61,
   "metadata": {
    "slideshow": {
     "slide_type": "slide"
    }
   },
   "outputs": [
    {
     "name": "stdout",
     "output_type": "stream",
     "text": [
      "CI  (0.0, 0.9045226130653266)  at  0.9 CL for b =  3  and x0 =  0\n",
      "CI  (0.0, 0.06030150753768844)  at  0.68 CL for b =  3  and x0 =  0\n"
     ]
    },
    {
     "data": {
      "image/png": "[encoded data removed]",
      "text/plain": [
       "<Figure size 432x288 with 1 Axes>"
      ]
     },
     "metadata": {
      "needs_background": "light"
     },
     "output_type": "display_data"
    }
   ],
   "source": [
    "x0, b = 0, 3\n",
    "plt_confbelt(x0, b, type = 'fc');"
   ]
  },
  {
   "cell_type": "markdown",
   "metadata": {
    "slideshow": {
     "slide_type": "slide"
    }
   },
   "source": [
    "**Exercise**: FC is a frequentist method. Verify now that the FC contruction garantees **coverage** for some examples $b = 3, \\mu_{true} = 0.5$.\n",
    "\n",
    "**Exercise**: Compare the classical and frequentist interval, where they differ? where they are equal? Use the case for example $b=3$."
   ]
  },
  {
   "cell_type": "markdown",
   "metadata": {
    "slideshow": {
     "slide_type": "slide"
    }
   },
   "source": [
    "### FC confidence intervals in n-dimensions\n",
    "\n",
    "\n",
    "The classical ordering is hard to extend to n-dimensions. But FC is not.\n",
    "\n",
    "We redefine the variable:\n",
    "\n",
    "$$\n",
    "t_\\mu = -2 \\ln \\frac{\\mathcal{L}(x | \\mu)}{\\mathcal{L}(x| \\hat{\\mu}(x))}\n",
    "$$\n",
    "\n",
    "\n",
    "\n",
    "In this case, if $x$ gives $\\hat{\\mu}(x) \\simeq \\mu$, $t_\\mu \\sim 0$, while if $\\hat{\\mu}(x)$ is different from $\\mu$, $t_\\mu$ is large. \n",
    "\n",
    "The larger $t_\\mu(x)$ the most extreme is $x$ with respect $\\mu$.\n"
   ]
  },
  {
   "cell_type": "markdown",
   "metadata": {
    "slideshow": {
     "slide_type": "subslide"
    }
   },
   "source": [
    "The pdf, $g(t_\\mu | \\mu)$, allow us to set the most $1-\\beta$ extreme $x$ data for a given $\\mu$.\n",
    "\n",
    "$$\n",
    "\\beta = \\int_0^{t_{\\mu}(\\beta)} g(t_\\mu | \\mu) \\, \\mathrm{d}t_\\mu\n",
    "$$\n",
    "\n",
    "\n",
    "There is no lower, central or upper integral. The ordering set a unique interval"
   ]
  },
  {
   "cell_type": "markdown",
   "metadata": {
    "slideshow": {
     "slide_type": "slide"
    }
   },
   "source": [
    "In this case $\\mu$ is a vector. We scan a region of the vector space. For each point in that space we will compute the $t_\\mu(x)$ pdf, $g(t_\\mu | \\mu)$, and the p-value of the observed data $x_0$. We will select the region of $\\mu$, as the confidence region, which p-values are inside the $\\beta$ CL. "
   ]
  },
  {
   "cell_type": "markdown",
   "metadata": {
    "slideshow": {
     "slide_type": "slide"
    }
   },
   "source": [
    "**Example**: Compute the distribution of $t_\\mu(x)$ for the case of $b=3$ and $s=0.5$ and $t_\\mu$ value for the observed data $x_0 = 1$"
   ]
  },
  {
   "cell_type": "code",
   "execution_count": 67,
   "metadata": {
    "slideshow": {
     "slide_type": "subslide"
    }
   },
   "outputs": [
    {
     "name": "stdout",
     "output_type": "stream",
     "text": [
      "p-value t0 : 0.166\n",
      "(xl, xu) with tmu <= tmu0 : ( 2 ,  13 )\n"
     ]
    },
    {
     "data": {
      "image/png": "[encoded data removed]",
      "text/plain": [
       "<Figure size 432x288 with 1 Axes>"
      ]
     },
     "metadata": {
      "needs_background": "light"
     },
     "output_type": "display_data"
    }
   ],
   "source": [
    "b, mu, x0, size = 10, 0.5, 0, 1000\n",
    "htexam.plt_tmus(x0, stats.poisson, b + mu, b, size);"
   ]
  },
  {
   "cell_type": "markdown",
   "metadata": {
    "slideshow": {
     "slide_type": "skip"
    }
   },
   "source": [
    "---"
   ]
  },
  {
   "cell_type": "markdown",
   "metadata": {
    "slideshow": {
     "slide_type": "slide"
    }
   },
   "source": [
    "## 4. Bayesian Credible Intervals\n",
    "\n",
    "Bayesians provide a *credible integral* at a $\\beta$ CL. The probability to find the true value inside the CI is $\\beta$.\n",
    "\n",
    "To obtain the CI, bayesians need the pdf $g(x | \\mu)$, and  the prior probability of the relevant parameter, $\\pi(\\mu)$. \n",
    "\n",
    "In most cases, this prior is unknown, and they are forced to take a 'reasonable' prior. Using the Bayes' theorem we can compute the *posterior probability*:\n",
    "\n",
    "$$\n",
    "p(\\mu | x) = \\frac{g(x |\\mu) \\, \\pi(\\mu)}{p(x)}\n",
    "$$\n",
    "\n",
    "The denominator, is in fact the probiblitity to get $x$ for all posible hypotheses, $\\mu$, that is:\n",
    "\n",
    "$$\n",
    "p(\\mu | x) = \\frac{g(x |\\mu) \\, \\pi(\\mu)}{\\int g(x | \\mu) \\pi(\\mu) \\, \\mathrm{d}\\mu}\n",
    "$$"
   ]
  },
  {
   "cell_type": "markdown",
   "metadata": {
    "slideshow": {
     "slide_type": "slide"
    }
   },
   "source": [
    "\n",
    "### Example: low stats poisson\n",
    "\n",
    "Consider the case of a counting experiment with $b$ background events ($b$ is known) and expect a signal $s$ on top. If one measures $n$, the posterior probability for $s$ is:\n",
    "\n",
    "$$\n",
    "p(b + s | n) = \\frac{p(n | b + s) \\,\\pi(s)}{\\int_s p(n | b+s) \\, \\pi(s) \\, \\mathrm{d}s}\n",
    "$$\n",
    "\n",
    "To get the *upper limit* CI at $\\beta$ CL, we integrate the posterior till the upper value, $s_u$, to get a total probability $\\beta$.\n",
    "\n",
    "$$\n",
    "\\int_{0}^{s_u} p(b + s | n)  \\, \\mathrm{d}s = \\beta\n",
    "$$"
   ]
  },
  {
   "cell_type": "markdown",
   "metadata": {
    "slideshow": {
     "slide_type": "slide"
    }
   },
   "source": [
    "\n",
    "We can take a 'reasonable' prior on $s$ (as a constant if $s>0$)\n",
    "\n",
    "$$\n",
    "\\pi(s) = \\left\\{ \\begin{array}{ll} \n",
    "1 & \\mbox{if $s \\ge 0$} \\\\\n",
    "0 & \\mbox{if $s \\lt 0$}\n",
    "\\end{array} \\right.\n",
    "$$\n",
    "\n",
    "The posterior of data $n$ is proportional to:\n",
    "\n",
    "$$\n",
    "p(b + s | n) = \\frac{(b+s)^n e^{-(b+s)}}{n!} = \\Gamma(b+s,n+1,1)\n",
    "$$\n",
    "\n",
    "where, $\\Gamma(x, \\alpha, \\beta)$ is the gamma distribution. \n"
   ]
  },
  {
   "cell_type": "markdown",
   "metadata": {
    "slideshow": {
     "slide_type": "slide"
    }
   },
   "source": [
    "\n",
    "The case $b=0$, the denominator (see above) $\\int_s p(n |s) \\, \\pi(s) \\, \\mathrm{d}s =  1$, and the numerator, reduces to:\n",
    "$$\n",
    "\\int_{0}^{s_u} \\Gamma(s, n+1, 1) \\, \\mathrm{d}s = \\beta\n",
    "$$\n",
    "\n",
    "For a value of $b$, we need to solve:\n",
    "$$\n",
    "\\frac{\\int_{0}^{s_u} \\Gamma(b+s, n+1, 1) \\mathrm{d}s}{\\int_{0}^{\\infty} \\Gamma(b+s, n+1, 1) \\, \\mathrm{d}s} = \\beta\n",
    "$$\n",
    "That can be computed with the change $u=s+b$."
   ]
  },
  {
   "cell_type": "markdown",
   "metadata": {
    "slideshow": {
     "slide_type": "slide"
    }
   },
   "source": [
    "**Example:** Compute the posterior probability of the signal $s$ for an experiment that expect $b = 3$ background events and measures $n_0 = 0$ or $n_0 = 6$."
   ]
  },
  {
   "cell_type": "code",
   "execution_count": 23,
   "metadata": {
    "slideshow": {
     "slide_type": "subslide"
    }
   },
   "outputs": [
    {
     "name": "stdout",
     "output_type": "stream",
     "text": [
      "integral : 0.9999999999999999\n",
      "Upper limit  68 % CL : 1.1422845691382766\n",
      "Upper limit  90 % CL : 2.3046092184368736\n",
      "Upper limit  95 % CL : 3.006012024048096\n"
     ]
    },
    {
     "data": {
      "image/png": "[encoded data removed]",
      "text/plain": [
       "<Figure size 432x288 with 1 Axes>"
      ]
     },
     "metadata": {
      "needs_background": "light"
     },
     "output_type": "display_data"
    }
   ],
   "source": [
    "b, x0 = 3., 0.\n",
    "nmax = 2.*(x0 + b)\n",
    "htexam.bayes_poisson_upper(b, x0, 10, 500);"
   ]
  },
  {
   "cell_type": "code",
   "execution_count": 24,
   "metadata": {
    "slideshow": {
     "slide_type": "subslide"
    }
   },
   "outputs": [
    {
     "name": "stdout",
     "output_type": "stream",
     "text": [
      "integral : 1.0000000000000002\n",
      "CI  68 % CL : ( 4.68937875751503 ,  11.306613226452905 )\n",
      "CI  90 % CL : ( 3.1262525050100196 ,  14.016032064128256 )\n",
      "CI  95 % CL : ( 2.4488977955911824 ,  15.422845691382765 )\n"
     ]
    },
    {
     "data": {
      "image/png": "[encoded data removed]",
      "text/plain": [
       "<Figure size 432x288 with 1 Axes>"
      ]
     },
     "metadata": {
      "needs_background": "light"
     },
     "output_type": "display_data"
    }
   ],
   "source": [
    "b, x0 = 3., 10.\n",
    "nmax = 2.*(x0 + b)\n",
    "htexam.bayes_poisson_ci(b, x0, nmax, 500);"
   ]
  },
  {
   "cell_type": "markdown",
   "metadata": {
    "slideshow": {
     "slide_type": "slide"
    }
   },
   "source": [
    "**Example:** Compute the upper limit, $s_u$, using Bayes' CI at 90% CL for different values of $b$ and $n$ observations."
   ]
  },
  {
   "cell_type": "code",
   "execution_count": 25,
   "metadata": {
    "slideshow": {
     "slide_type": "slide"
    }
   },
   "outputs": [
    {
     "data": {
      "image/png": "[encoded data removed]",
      "text/plain": [
       "<Figure size 432x288 with 1 Axes>"
      ]
     },
     "metadata": {
      "needs_background": "light"
     },
     "output_type": "display_data"
    }
   ],
   "source": [
    "beta, ndim, nobs = 0.90, 13, 5\n",
    "bs = np.arange(ndim)\n",
    "ns = np.arange(nobs)\n",
    "\n",
    "colors = 4*['black', 'blue', 'green', 'red', 'cyan']\n",
    "for ni in ns:\n",
    "    color = colors[ni]\n",
    "    cbs = np.array([stats.gamma.cdf(bi, ni+1) for bi in bs])\n",
    "    betaps = beta*(1-cbs)+cbs\n",
    "    ss = np.array([stats.gamma.ppf(betapi, ni+1)-bi for bi, betapi in zip(bs, betaps)])\n",
    "    plt.plot(bs, ss, color=color, lw=2, alpha=0.5, label=r'x = {:d}'.format(ni))\n",
    "plt.xlabel(r'$b$'); plt.grid();\n",
    "plt.ylabel(r'$s_u$ bayes {:d} %CL'.format(int(100*beta)));\n",
    "plt.legend();"
   ]
  },
  {
   "cell_type": "code",
   "execution_count": null,
   "metadata": {},
   "outputs": [],
   "source": []
  }
 ],
 "metadata": {
  "anaconda-cloud": {},
  "celltoolbar": "Slideshow",
  "kernelspec": {
   "display_name": "Python 3",
   "language": "python",
   "name": "python3"
  },
  "language_info": {
   "codemirror_mode": {
    "name": "ipython",
    "version": 3
   },
   "file_extension": ".py",
   "mimetype": "text/x-python",
   "name": "python",
   "nbconvert_exporter": "python",
   "pygments_lexer": "ipython3",
   "version": "3.8.8"
  },
  "nbpresent": {
   "slides": {
    "03c973b9-a933-4963-883a-b404400e0f61": {
     "id": "03c973b9-a933-4963-883a-b404400e0f61",
     "prev": "abd277d4-bebd-459a-83a0-f2c3e9f41bbe",
     "regions": {
      "a0a32193-b2de-45eb-accf-271aeff98d01": {
       "attrs": {
        "height": 0.8,
        "width": 0.8,
        "x": 0.1,
        "y": 0.1
       },
       "content": {
        "cell": "fd167f21-280d-4c3f-ba5c-01cd6a1ee4f2",
        "part": "whole"
       },
       "id": "a0a32193-b2de-45eb-accf-271aeff98d01"
      }
     }
    },
    "05b90ccd-613d-48c8-8349-76052e91d209": {
     "id": "05b90ccd-613d-48c8-8349-76052e91d209",
     "prev": "53c3fd3a-bb2e-4a1d-a8d0-7f77aa481908",
     "regions": {}
    },
    "0625507a-b45b-4bd4-ae49-dc84776d0d12": {
     "id": "0625507a-b45b-4bd4-ae49-dc84776d0d12",
     "prev": "03c973b9-a933-4963-883a-b404400e0f61",
     "regions": {
      "0db85c93-0528-4078-b2e6-9012b2e79e0b": {
       "attrs": {
        "height": 0.8,
        "width": 0.8,
        "x": 0.1,
        "y": 0.1
       },
       "content": {
        "cell": "f3a7d2d2-e581-4e1f-bf31-fda81c790d69",
        "part": "whole"
       },
       "id": "0db85c93-0528-4078-b2e6-9012b2e79e0b"
      }
     }
    },
    "0af600d2-5e75-4ef0-9419-637561778a9b": {
     "id": "0af600d2-5e75-4ef0-9419-637561778a9b",
     "prev": "05b90ccd-613d-48c8-8349-76052e91d209",
     "regions": {
      "c36eeceb-a679-4e0c-82cf-16f8ee719b08": {
       "attrs": {
        "height": 0.8,
        "width": 0.8,
        "x": 0.1,
        "y": 0.1
       },
       "content": {
        "cell": "8b1a3799-c81d-4bc0-86e1-3fb15503aa79",
        "part": "whole"
       },
       "id": "c36eeceb-a679-4e0c-82cf-16f8ee719b08"
      }
     }
    },
    "14fd8390-cb3c-4721-92f4-1b1d5100702e": {
     "id": "14fd8390-cb3c-4721-92f4-1b1d5100702e",
     "prev": null,
     "regions": {
      "c264fd1f-0c8f-4514-a5e7-c71c35568354": {
       "attrs": {
        "height": 0.8,
        "width": 0.8,
        "x": 0.1,
        "y": 0.1
       },
       "content": {
        "cell": "b0bdc0c5-2495-4e0e-9793-ed5facd68637",
        "part": "whole"
       },
       "id": "c264fd1f-0c8f-4514-a5e7-c71c35568354"
      }
     }
    },
    "1d02906a-e06a-4a1d-a0c0-988f2b6a3645": {
     "id": "1d02906a-e06a-4a1d-a0c0-988f2b6a3645",
     "prev": "cd7f6e46-54bb-400e-8ed0-4b99dafbef7e",
     "regions": {
      "0b861c39-abcc-4ce3-be33-0d4383855383": {
       "attrs": {
        "height": 0.8,
        "width": 0.8,
        "x": 0.1,
        "y": 0.1
       },
       "content": {
        "cell": "6bed7def-d8e1-4f01-ba39-d699c034fa8d",
        "part": "whole"
       },
       "id": "0b861c39-abcc-4ce3-be33-0d4383855383"
      }
     }
    },
    "26d299d9-0cb9-468a-a646-4c99648ef8f5": {
     "id": "26d299d9-0cb9-468a-a646-4c99648ef8f5",
     "prev": "473bde1a-8e4f-44c8-9570-b2f2eaf39991",
     "regions": {
      "c6fd86da-0742-44f5-8676-2a36788ddbed": {
       "attrs": {
        "height": 0.8,
        "width": 0.8,
        "x": 0.1,
        "y": 0.1
       },
       "content": {
        "cell": "ec123021-6415-46a8-b79f-508e0e25f28d",
        "part": "whole"
       },
       "id": "c6fd86da-0742-44f5-8676-2a36788ddbed"
      }
     }
    },
    "28900538-796d-4bd2-921b-00567d8adbe8": {
     "id": "28900538-796d-4bd2-921b-00567d8adbe8",
     "prev": "d9efacc5-46f1-4913-bbbe-59aef63a7e5e",
     "regions": {
      "fd2aff00-5f4e-47f1-929a-16918f044651": {
       "attrs": {
        "height": 0.8,
        "width": 0.8,
        "x": 0.1,
        "y": 0.1
       },
       "content": {
        "cell": "7a51d248-ab99-4db8-8cad-f38f21a9fd3d",
        "part": "whole"
       },
       "id": "fd2aff00-5f4e-47f1-929a-16918f044651"
      }
     }
    },
    "30524962-33e0-442d-a166-8385e3539149": {
     "id": "30524962-33e0-442d-a166-8385e3539149",
     "prev": "4d0fd687-7494-42db-8031-b8aa4f6e8958",
     "regions": {
      "cef579af-c191-4420-9e6d-53188cbb95d1": {
       "attrs": {
        "height": 0.8,
        "width": 0.8,
        "x": 0.1,
        "y": 0.1
       },
       "content": {
        "cell": "cd3172c0-1283-4ad4-a4e5-3ed178a53c6a",
        "part": "whole"
       },
       "id": "cef579af-c191-4420-9e6d-53188cbb95d1"
      }
     }
    },
    "34a1ce81-4b64-40a7-83e8-300aa2aedcc4": {
     "id": "34a1ce81-4b64-40a7-83e8-300aa2aedcc4",
     "prev": "670664b7-a1e1-4d66-8e3f-5d3723286f87",
     "regions": {
      "46ddc3b7-2c51-489b-a95e-9017b70c4c94": {
       "attrs": {
        "height": 0.8,
        "width": 0.8,
        "x": 0.1,
        "y": 0.1
       },
       "content": {
        "cell": "19d7e813-cdc2-4ec7-8c43-f8d22cf8ba4e",
        "part": "whole"
       },
       "id": "46ddc3b7-2c51-489b-a95e-9017b70c4c94"
      }
     }
    },
    "3945d6f7-bc6d-4e9b-865f-f8f513acaa65": {
     "id": "3945d6f7-bc6d-4e9b-865f-f8f513acaa65",
     "prev": "bb5a2ac7-d69b-472f-80f1-0b22b500d6b1",
     "regions": {
      "0536af45-f585-4867-ab8c-b7d492dbca20": {
       "attrs": {
        "height": 0.8,
        "width": 0.8,
        "x": 0.1,
        "y": 0.1
       },
       "content": {
        "cell": "72dc290c-5abc-481d-ab04-03bfba7f0f04",
        "part": "whole"
       },
       "id": "0536af45-f585-4867-ab8c-b7d492dbca20"
      }
     }
    },
    "473bde1a-8e4f-44c8-9570-b2f2eaf39991": {
     "id": "473bde1a-8e4f-44c8-9570-b2f2eaf39991",
     "prev": "8af4880d-b773-4819-a3a7-20c3e747bd38",
     "regions": {
      "beffdeaa-4ee0-4dd8-a621-e2d31c4f1c0c": {
       "attrs": {
        "height": 0.8,
        "width": 0.8,
        "x": 0.1,
        "y": 0.1
       },
       "content": {
        "cell": "910b5fdd-8bd7-4c24-a2e7-fcd10c64c805",
        "part": "whole"
       },
       "id": "beffdeaa-4ee0-4dd8-a621-e2d31c4f1c0c"
      }
     }
    },
    "4d0fd687-7494-42db-8031-b8aa4f6e8958": {
     "id": "4d0fd687-7494-42db-8031-b8aa4f6e8958",
     "prev": "5f00c622-7e01-465c-af95-0e3140f41964",
     "regions": {
      "fde7aa54-b253-473a-9d8f-290b3f381df4": {
       "attrs": {
        "height": 0.8,
        "width": 0.8,
        "x": 0.1,
        "y": 0.1
       },
       "content": {
        "cell": "f33c702a-6dda-450b-bd04-2d63c4955e21",
        "part": "whole"
       },
       "id": "fde7aa54-b253-473a-9d8f-290b3f381df4"
      }
     }
    },
    "520b787c-80d0-468e-a886-a7655a396da5": {
     "id": "520b787c-80d0-468e-a886-a7655a396da5",
     "prev": "52d6cfb9-fbda-441a-9a56-b3a448b2a716",
     "regions": {
      "96a741ba-d88f-4bf7-8f88-caf58d929454": {
       "attrs": {
        "height": 0.8,
        "width": 0.8,
        "x": 0.1,
        "y": 0.1
       },
       "content": {
        "cell": "414f4b85-d8d8-4d44-91e8-a81b2f3b6aff",
        "part": "whole"
       },
       "id": "96a741ba-d88f-4bf7-8f88-caf58d929454"
      }
     }
    },
    "52d6cfb9-fbda-441a-9a56-b3a448b2a716": {
     "id": "52d6cfb9-fbda-441a-9a56-b3a448b2a716",
     "prev": "ff5d273d-624d-4084-9245-d2e63d652d3f",
     "regions": {
      "eca9eec6-f213-4ddf-9b8f-acf70e3855c4": {
       "attrs": {
        "height": 0.8,
        "width": 0.8,
        "x": 0.1,
        "y": 0.1
       },
       "content": {
        "cell": "039cac1a-ccef-4bb5-9406-cc1450a1a1a3",
        "part": "whole"
       },
       "id": "eca9eec6-f213-4ddf-9b8f-acf70e3855c4"
      }
     }
    },
    "53c3fd3a-bb2e-4a1d-a8d0-7f77aa481908": {
     "id": "53c3fd3a-bb2e-4a1d-a8d0-7f77aa481908",
     "prev": "14fd8390-cb3c-4721-92f4-1b1d5100702e",
     "regions": {
      "2e862ace-1d3a-40d3-91b8-8adfb48f9b42": {
       "attrs": {
        "height": 0.8,
        "width": 0.8,
        "x": 0.1,
        "y": 0.1
       },
       "content": {
        "cell": "ad5486f8-4654-482a-b15c-f0d4e5c76937",
        "part": "whole"
       },
       "id": "2e862ace-1d3a-40d3-91b8-8adfb48f9b42"
      }
     }
    },
    "5f00c622-7e01-465c-af95-0e3140f41964": {
     "id": "5f00c622-7e01-465c-af95-0e3140f41964",
     "prev": "28900538-796d-4bd2-921b-00567d8adbe8",
     "regions": {
      "865db23e-09b3-41e7-bae9-d5f2c5d767ed": {
       "attrs": {
        "height": 0.8,
        "width": 0.8,
        "x": 0.1,
        "y": 0.1
       },
       "content": {
        "cell": "fd994b19-bfe4-47e4-9b0b-b0608e652de4",
        "part": "whole"
       },
       "id": "865db23e-09b3-41e7-bae9-d5f2c5d767ed"
      }
     }
    },
    "670664b7-a1e1-4d66-8e3f-5d3723286f87": {
     "id": "670664b7-a1e1-4d66-8e3f-5d3723286f87",
     "prev": "852688d5-90bc-41f3-8a37-152ef555b37b",
     "regions": {
      "534a18b1-a167-4b2e-9ace-6b1215080b4e": {
       "attrs": {
        "height": 0.8,
        "width": 0.8,
        "x": 0.1,
        "y": 0.1
       },
       "content": {
        "cell": "dca918e6-eeda-49a5-bf63-7d7e4593a8b4",
        "part": "whole"
       },
       "id": "534a18b1-a167-4b2e-9ace-6b1215080b4e"
      }
     }
    },
    "6754d1c7-53db-4045-9401-7322a90ae611": {
     "id": "6754d1c7-53db-4045-9401-7322a90ae611",
     "prev": "d1521f3d-2262-40a0-a5e1-88b0e16506e5",
     "regions": {
      "4492173d-93f2-479d-8d92-64643e7a9d51": {
       "attrs": {
        "height": 0.8,
        "width": 0.8,
        "x": 0.1,
        "y": 0.1
       },
       "content": {
        "cell": "0da93dea-2f38-407a-a1da-d95868af5553",
        "part": "whole"
       },
       "id": "4492173d-93f2-479d-8d92-64643e7a9d51"
      }
     }
    },
    "68f9f3ab-a415-4fd2-9796-a2885e3ecd3d": {
     "id": "68f9f3ab-a415-4fd2-9796-a2885e3ecd3d",
     "prev": "9e0cd59b-974d-40e3-9833-2b4997889623",
     "regions": {
      "6027082b-baf6-4a01-95d8-7da144824014": {
       "attrs": {
        "height": 0.8,
        "width": 0.8,
        "x": 0.1,
        "y": 0.1
       },
       "content": {
        "cell": "64460482-4923-4181-a234-2b0826f24577",
        "part": "whole"
       },
       "id": "6027082b-baf6-4a01-95d8-7da144824014"
      }
     }
    },
    "6f2a0112-3509-4daa-b075-857bf2579c21": {
     "id": "6f2a0112-3509-4daa-b075-857bf2579c21",
     "prev": "ae69a1c3-b34c-4834-a24d-9080490a066b",
     "regions": {
      "2e3711ab-46c8-41e6-8eb2-2c3f04083a96": {
       "attrs": {
        "height": 0.8,
        "width": 0.8,
        "x": 0.1,
        "y": 0.1
       },
       "content": {
        "cell": "614260a3-f2b7-41ac-bab7-3f27221c62c3",
        "part": "whole"
       },
       "id": "2e3711ab-46c8-41e6-8eb2-2c3f04083a96"
      }
     }
    },
    "852688d5-90bc-41f3-8a37-152ef555b37b": {
     "id": "852688d5-90bc-41f3-8a37-152ef555b37b",
     "prev": "f7d6d4c5-f718-4bd5-886e-9dbce46b14a8",
     "regions": {
      "44066b64-c04d-4b41-afba-c9d9c5103b86": {
       "attrs": {
        "height": 0.8,
        "width": 0.8,
        "x": 0.1,
        "y": 0.1
       },
       "content": {
        "cell": "29fce9a4-e192-488e-a24a-e339615b68c1",
        "part": "whole"
       },
       "id": "44066b64-c04d-4b41-afba-c9d9c5103b86"
      }
     }
    },
    "8af4880d-b773-4819-a3a7-20c3e747bd38": {
     "id": "8af4880d-b773-4819-a3a7-20c3e747bd38",
     "prev": "3945d6f7-bc6d-4e9b-865f-f8f513acaa65",
     "regions": {
      "073634e7-bf4f-432f-a7ce-78b7bff8768a": {
       "attrs": {
        "height": 0.8,
        "width": 0.8,
        "x": 0.1,
        "y": 0.1
       },
       "content": {
        "cell": "5759e1ec-75c1-48d7-a056-3674ab3e4f7d",
        "part": "whole"
       },
       "id": "073634e7-bf4f-432f-a7ce-78b7bff8768a"
      }
     }
    },
    "8e95450e-7c4d-4349-b203-df7f3f335f33": {
     "id": "8e95450e-7c4d-4349-b203-df7f3f335f33",
     "prev": "fb0452df-0a75-44a1-b887-5beb2d213ed9",
     "regions": {
      "ee77ca13-0bbc-49a2-a848-a71efd0adf84": {
       "attrs": {
        "height": 0.8,
        "width": 0.8,
        "x": 0.1,
        "y": 0.1
       },
       "content": {
        "cell": "c728a564-189f-4c98-8891-39170977a837",
        "part": "whole"
       },
       "id": "ee77ca13-0bbc-49a2-a848-a71efd0adf84"
      }
     }
    },
    "9ded5185-b8ba-4bd9-9fc7-a542f079d952": {
     "id": "9ded5185-b8ba-4bd9-9fc7-a542f079d952",
     "prev": "bacc3206-fdac-4afe-b401-62a6a67aecc3",
     "regions": {
      "2ea1639f-a94e-45fb-a2a7-a018b2ebe370": {
       "attrs": {
        "height": 0.8,
        "width": 0.8,
        "x": 0.1,
        "y": 0.1
       },
       "content": {
        "cell": "43e100ca-3a5e-4321-b30a-75ba56b43367",
        "part": "whole"
       },
       "id": "2ea1639f-a94e-45fb-a2a7-a018b2ebe370"
      }
     }
    },
    "9e0cd59b-974d-40e3-9833-2b4997889623": {
     "id": "9e0cd59b-974d-40e3-9833-2b4997889623",
     "prev": "f033fabf-ee38-4787-bd8c-e893d1ebdea7",
     "regions": {
      "eb776255-fd17-4c23-b21a-facb253ebf6b": {
       "attrs": {
        "height": 0.8,
        "width": 0.8,
        "x": 0.1,
        "y": 0.1
       },
       "content": {
        "cell": "287e983b-72a1-4613-afcc-c3c1ab61dd18",
        "part": "whole"
       },
       "id": "eb776255-fd17-4c23-b21a-facb253ebf6b"
      }
     }
    },
    "abd277d4-bebd-459a-83a0-f2c3e9f41bbe": {
     "id": "abd277d4-bebd-459a-83a0-f2c3e9f41bbe",
     "prev": "ffc5ae15-5827-409c-ae63-c56557c9f8dd",
     "regions": {
      "3ec88410-862e-480a-9cc9-2e1a4b01f6a0": {
       "attrs": {
        "height": 0.8,
        "width": 0.8,
        "x": 0.1,
        "y": 0.1
       },
       "content": {
        "cell": "2ed92466-3a5f-4aec-8cbf-017327c70bd8",
        "part": "whole"
       },
       "id": "3ec88410-862e-480a-9cc9-2e1a4b01f6a0"
      }
     }
    },
    "ae69a1c3-b34c-4834-a24d-9080490a066b": {
     "id": "ae69a1c3-b34c-4834-a24d-9080490a066b",
     "prev": "9ded5185-b8ba-4bd9-9fc7-a542f079d952",
     "regions": {
      "45f70f94-eaa8-43d6-baf8-b874c1c556bf": {
       "attrs": {
        "height": 0.8,
        "width": 0.8,
        "x": 0.1,
        "y": 0.1
       },
       "content": {
        "cell": "3841b030-0070-4827-b90e-1ddb0c7e3e74",
        "part": "whole"
       },
       "id": "45f70f94-eaa8-43d6-baf8-b874c1c556bf"
      }
     }
    },
    "b062e9fb-0f2e-42e6-924b-6bdaef937cfc": {
     "id": "b062e9fb-0f2e-42e6-924b-6bdaef937cfc",
     "prev": "26d299d9-0cb9-468a-a646-4c99648ef8f5",
     "regions": {
      "97edcfa2-8717-46b5-b3dc-bce48c24699b": {
       "attrs": {
        "height": 0.8,
        "width": 0.8,
        "x": 0.1,
        "y": 0.1
       },
       "content": {
        "cell": "86c5b979-5fef-43d7-a853-631dd7187b7a",
        "part": "whole"
       },
       "id": "97edcfa2-8717-46b5-b3dc-bce48c24699b"
      }
     }
    },
    "b678339e-95fa-4fb2-8fd9-64859f4a3003": {
     "id": "b678339e-95fa-4fb2-8fd9-64859f4a3003",
     "prev": "f1185057-baeb-4926-b4d4-ea490af4b375",
     "regions": {
      "01b5af79-5365-418f-a332-9447e1e4c8f7": {
       "attrs": {
        "height": 0.8,
        "width": 0.8,
        "x": 0.1,
        "y": 0.1
       },
       "content": {
        "cell": "285ab068-3282-460b-a021-01bc47b5f6a6",
        "part": "whole"
       },
       "id": "01b5af79-5365-418f-a332-9447e1e4c8f7"
      }
     }
    },
    "bacc3206-fdac-4afe-b401-62a6a67aecc3": {
     "id": "bacc3206-fdac-4afe-b401-62a6a67aecc3",
     "prev": "0af600d2-5e75-4ef0-9419-637561778a9b",
     "regions": {
      "a6ab8cbf-d7e3-43a6-a3e2-156953b5132f": {
       "attrs": {
        "height": 0.8,
        "width": 0.8,
        "x": 0.1,
        "y": 0.1
       },
       "content": {
        "cell": "03b78c78-a17e-4c7f-85e5-2f054ba3ac70",
        "part": "whole"
       },
       "id": "a6ab8cbf-d7e3-43a6-a3e2-156953b5132f"
      }
     }
    },
    "bb5a2ac7-d69b-472f-80f1-0b22b500d6b1": {
     "id": "bb5a2ac7-d69b-472f-80f1-0b22b500d6b1",
     "prev": "dcaae40e-bfa3-4b02-a07f-e60131d41001",
     "regions": {
      "d153cea3-4c0c-4d59-a0bc-3a1f34d2d533": {
       "attrs": {
        "height": 0.8,
        "width": 0.8,
        "x": 0.1,
        "y": 0.1
       },
       "content": {
        "cell": "525a9dc4-0bae-4e5c-ae1e-056dab928092",
        "part": "whole"
       },
       "id": "d153cea3-4c0c-4d59-a0bc-3a1f34d2d533"
      }
     }
    },
    "cd7f6e46-54bb-400e-8ed0-4b99dafbef7e": {
     "id": "cd7f6e46-54bb-400e-8ed0-4b99dafbef7e",
     "prev": "d591f5b2-3cfa-40e0-b6f9-23c7cf914341",
     "regions": {
      "baa53820-7b66-43be-bf4d-686011ba1a62": {
       "attrs": {
        "height": 0.8,
        "width": 0.8,
        "x": 0.1,
        "y": 0.1
       },
       "content": {
        "cell": "ca6c5d7d-72dc-46e7-b316-238ecbd2ef42",
        "part": "whole"
       },
       "id": "baa53820-7b66-43be-bf4d-686011ba1a62"
      }
     }
    },
    "cfe40159-360a-4ca6-b629-dcaf42ba6006": {
     "id": "cfe40159-360a-4ca6-b629-dcaf42ba6006",
     "prev": "68f9f3ab-a415-4fd2-9796-a2885e3ecd3d",
     "regions": {
      "85e81ff6-9bcf-4b34-8289-d88ad20b8e90": {
       "attrs": {
        "height": 0.8,
        "width": 0.8,
        "x": 0.1,
        "y": 0.1
       },
       "content": {
        "cell": "f975605e-50af-4b2b-b346-6987f9fdeb3b",
        "part": "whole"
       },
       "id": "85e81ff6-9bcf-4b34-8289-d88ad20b8e90"
      }
     }
    },
    "d1521f3d-2262-40a0-a5e1-88b0e16506e5": {
     "id": "d1521f3d-2262-40a0-a5e1-88b0e16506e5",
     "prev": "b678339e-95fa-4fb2-8fd9-64859f4a3003",
     "regions": {
      "28fe7bdc-bc30-46d8-877b-670ac3b83ff2": {
       "attrs": {
        "height": 0.8,
        "width": 0.8,
        "x": 0.1,
        "y": 0.1
       },
       "content": {
        "cell": "271e0508-27bd-465c-aeaf-9d93495cff5b",
        "part": "whole"
       },
       "id": "28fe7bdc-bc30-46d8-877b-670ac3b83ff2"
      }
     }
    },
    "d591f5b2-3cfa-40e0-b6f9-23c7cf914341": {
     "id": "d591f5b2-3cfa-40e0-b6f9-23c7cf914341",
     "prev": "30524962-33e0-442d-a166-8385e3539149",
     "regions": {
      "a168e527-9302-4cd1-a13f-08afa25e5339": {
       "attrs": {
        "height": 0.8,
        "width": 0.8,
        "x": 0.1,
        "y": 0.1
       },
       "content": {
        "cell": "daef9866-c944-44e5-9198-0a776e47aace",
        "part": "whole"
       },
       "id": "a168e527-9302-4cd1-a13f-08afa25e5339"
      }
     }
    },
    "d9efacc5-46f1-4913-bbbe-59aef63a7e5e": {
     "id": "d9efacc5-46f1-4913-bbbe-59aef63a7e5e",
     "prev": "34a1ce81-4b64-40a7-83e8-300aa2aedcc4",
     "regions": {
      "82e3f7de-35ec-4742-9b47-4d425012f8f7": {
       "attrs": {
        "height": 0.8,
        "width": 0.8,
        "x": 0.1,
        "y": 0.1
       },
       "content": {
        "cell": "a690eefb-2be1-47d9-a5b2-2b82ca73809d",
        "part": "whole"
       },
       "id": "82e3f7de-35ec-4742-9b47-4d425012f8f7"
      }
     }
    },
    "dcaae40e-bfa3-4b02-a07f-e60131d41001": {
     "id": "dcaae40e-bfa3-4b02-a07f-e60131d41001",
     "prev": "eaa81505-a8ce-4034-8700-57cf207c4352",
     "regions": {
      "81222eb2-e84c-47bc-a07c-b3624be55883": {
       "attrs": {
        "height": 0.8,
        "width": 0.8,
        "x": 0.1,
        "y": 0.1
       },
       "content": {
        "cell": "a455d904-3fbe-4a12-a1f2-1c8fa63e718c",
        "part": "whole"
       },
       "id": "81222eb2-e84c-47bc-a07c-b3624be55883"
      }
     }
    },
    "e6e8e485-1028-4ca0-a67c-bc4285cd900b": {
     "id": "e6e8e485-1028-4ca0-a67c-bc4285cd900b",
     "prev": "b062e9fb-0f2e-42e6-924b-6bdaef937cfc",
     "regions": {
      "6edab1db-2389-4635-92f4-7aede64288d3": {
       "attrs": {
        "height": 0.8,
        "width": 0.8,
        "x": 0.1,
        "y": 0.1
       },
       "content": {
        "cell": "5c058c4e-5fee-4eda-834f-a419aebedd07",
        "part": "whole"
       },
       "id": "6edab1db-2389-4635-92f4-7aede64288d3"
      }
     }
    },
    "eaa81505-a8ce-4034-8700-57cf207c4352": {
     "id": "eaa81505-a8ce-4034-8700-57cf207c4352",
     "prev": "1d02906a-e06a-4a1d-a0c0-988f2b6a3645",
     "regions": {
      "4f784b97-8fa0-4137-8e50-0b05f8077d8d": {
       "attrs": {
        "height": 0.8,
        "width": 0.8,
        "x": 0.1,
        "y": 0.1
       },
       "content": {
        "cell": "06d98302-00f8-4d79-9ad5-660d734a7684",
        "part": "whole"
       },
       "id": "4f784b97-8fa0-4137-8e50-0b05f8077d8d"
      }
     }
    },
    "f033fabf-ee38-4787-bd8c-e893d1ebdea7": {
     "id": "f033fabf-ee38-4787-bd8c-e893d1ebdea7",
     "prev": "e6e8e485-1028-4ca0-a67c-bc4285cd900b",
     "regions": {
      "03432ebd-e70f-4764-a43b-f2f47da59bb3": {
       "attrs": {
        "height": 0.8,
        "width": 0.8,
        "x": 0.1,
        "y": 0.1
       },
       "content": {
        "cell": "c636b122-4836-4ed4-aa4a-1738665b9b9a",
        "part": "whole"
       },
       "id": "03432ebd-e70f-4764-a43b-f2f47da59bb3"
      }
     }
    },
    "f1185057-baeb-4926-b4d4-ea490af4b375": {
     "id": "f1185057-baeb-4926-b4d4-ea490af4b375",
     "prev": "6f2a0112-3509-4daa-b075-857bf2579c21",
     "regions": {
      "7546ae18-835a-4616-9017-49c13dbbea8d": {
       "attrs": {
        "height": 0.8,
        "width": 0.8,
        "x": 0.1,
        "y": 0.1
       },
       "content": {
        "cell": "e2c6911d-d7b5-4bc5-b7b5-4aacf1f5e16c",
        "part": "whole"
       },
       "id": "7546ae18-835a-4616-9017-49c13dbbea8d"
      }
     }
    },
    "f7d6d4c5-f718-4bd5-886e-9dbce46b14a8": {
     "id": "f7d6d4c5-f718-4bd5-886e-9dbce46b14a8",
     "prev": "8e95450e-7c4d-4349-b203-df7f3f335f33",
     "regions": {
      "e44956c3-9cdc-4045-83dd-7da9fe20a43c": {
       "attrs": {
        "height": 0.8,
        "width": 0.8,
        "x": 0.1,
        "y": 0.1
       },
       "content": {
        "cell": "f9b7401d-d46c-46ec-88b4-20bfd0d52016",
        "part": "whole"
       },
       "id": "e44956c3-9cdc-4045-83dd-7da9fe20a43c"
      }
     }
    },
    "fb0452df-0a75-44a1-b887-5beb2d213ed9": {
     "id": "fb0452df-0a75-44a1-b887-5beb2d213ed9",
     "prev": "0625507a-b45b-4bd4-ae49-dc84776d0d12",
     "regions": {
      "992c8c35-a9cb-4413-a4ba-3866195ec8ba": {
       "attrs": {
        "height": 0.8,
        "width": 0.8,
        "x": 0.1,
        "y": 0.1
       },
       "content": {
        "cell": "55461985-ce0c-4d80-af16-83546fd567cb",
        "part": "whole"
       },
       "id": "992c8c35-a9cb-4413-a4ba-3866195ec8ba"
      }
     }
    },
    "ff5d273d-624d-4084-9245-d2e63d652d3f": {
     "id": "ff5d273d-624d-4084-9245-d2e63d652d3f",
     "prev": "cfe40159-360a-4ca6-b629-dcaf42ba6006",
     "regions": {
      "a9a6636b-9c15-4313-8fde-2f8c3b837054": {
       "attrs": {
        "height": 0.8,
        "width": 0.8,
        "x": 0.1,
        "y": 0.1
       },
       "content": {
        "cell": "7367c126-acad-4115-81e5-f7db8d2b275c",
        "part": "whole"
       },
       "id": "a9a6636b-9c15-4313-8fde-2f8c3b837054"
      }
     }
    },
    "ffc5ae15-5827-409c-ae63-c56557c9f8dd": {
     "id": "ffc5ae15-5827-409c-ae63-c56557c9f8dd",
     "prev": "6754d1c7-53db-4045-9401-7322a90ae611",
     "regions": {
      "c474b573-fef0-4545-9909-3d8e47305551": {
       "attrs": {
        "height": 0.8,
        "width": 0.8,
        "x": 0.1,
        "y": 0.1
       },
       "content": {
        "cell": "3c2bc7e4-65f8-43a1-94e9-c57c82218d19",
        "part": "whole"
       },
       "id": "c474b573-fef0-4545-9909-3d8e47305551"
      }
     }
    }
   },
   "themes": {
    "default": "9e30d733-5ce5-4311-b8b1-ce05a7bc4772",
    "theme": {
     "9e30d733-5ce5-4311-b8b1-ce05a7bc4772": {
      "id": "9e30d733-5ce5-4311-b8b1-ce05a7bc4772",
      "palette": {
       "19cc588f-0593-49c9-9f4b-e4d7cc113b1c": {
        "id": "19cc588f-0593-49c9-9f4b-e4d7cc113b1c",
        "rgb": [
         252,
         252,
         252
        ]
       },
       "31af15d2-7e15-44c5-ab5e-e04b16a89eff": {
        "id": "31af15d2-7e15-44c5-ab5e-e04b16a89eff",
        "rgb": [
         68,
         68,
         68
        ]
       },
       "50f92c45-a630-455b-aec3-788680ec7410": {
        "id": "50f92c45-a630-455b-aec3-788680ec7410",
        "rgb": [
         155,
         177,
         192
        ]
       },
       "c5cc3653-2ee1-402a-aba2-7caae1da4f6c": {
        "id": "c5cc3653-2ee1-402a-aba2-7caae1da4f6c",
        "rgb": [
         43,
         126,
         184
        ]
       },
       "efa7f048-9acb-414c-8b04-a26811511a21": {
        "id": "efa7f048-9acb-414c-8b04-a26811511a21",
        "rgb": [
         25.118061674008803,
         73.60176211453744,
         107.4819383259912
        ]
       }
      },
      "rules": {
       "blockquote": {
        "color": "50f92c45-a630-455b-aec3-788680ec7410"
       },
       "code": {
        "font-family": "Anonymous Pro"
       },
       "h1": {
        "color": "c5cc3653-2ee1-402a-aba2-7caae1da4f6c",
        "font-family": "Lato",
        "font-size": 8
       },
       "h2": {
        "color": "c5cc3653-2ee1-402a-aba2-7caae1da4f6c",
        "font-family": "Lato",
        "font-size": 6
       },
       "h3": {
        "color": "50f92c45-a630-455b-aec3-788680ec7410",
        "font-family": "Lato",
        "font-size": 5.5
       },
       "h4": {
        "color": "c5cc3653-2ee1-402a-aba2-7caae1da4f6c",
        "font-family": "Lato",
        "font-size": 5
       },
       "h5": {
        "font-family": "Lato"
       },
       "h6": {
        "font-family": "Lato"
       },
       "h7": {
        "font-family": "Lato"
       },
       "pre": {
        "font-family": "Anonymous Pro",
        "font-size": 4
       }
      },
      "text-base": {
       "font-family": "Merriweather",
       "font-size": 4
      }
     }
    }
   }
  }
 },
 "nbformat": 4,
 "nbformat_minor": 1
}
